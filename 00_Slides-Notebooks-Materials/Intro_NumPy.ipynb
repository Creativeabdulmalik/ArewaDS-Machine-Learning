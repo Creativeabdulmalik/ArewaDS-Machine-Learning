{
  "cells": [
    {
      "cell_type": "markdown",
      "id": "38a8aa55",
      "metadata": {
        "id": "38a8aa55"
      },
      "source": [
        "# Introduction to NumPy\n",
        "**Author:** Lukman J Aliyu  \n",
        " Arewa Data Science Academy\n",
        "\n",
        "**Audience:** Beginner to intermediate Python users"
      ]
    },
    {
      "cell_type": "markdown",
      "id": "58eae064",
      "metadata": {
        "id": "58eae064"
      },
      "source": [
        "## Welcome!\n",
        "- **Topic:** Introduction to NumPy\n",
        "- **Duration:** 1 hour\n",
        "- **Audience:** Beginner to intermediate Python users"
      ]
    },
    {
      "cell_type": "markdown",
      "id": "6ff47045",
      "metadata": {
        "id": "6ff47045"
      },
      "source": [
        "## Objectives\n",
        "By the end of this lecture, you will:\n",
        "- Understand why NumPy is essential for numerical computing\n",
        "- Know the limitations of Python lists\n",
        "- Learn to use NumPy arrays\n",
        "- Perform vectorized operations\n",
        "- Briefly contrast with Julia's approach to vectorization"
      ]
    },
    {
      "cell_type": "markdown",
      "id": "cc53e909",
      "metadata": {
        "id": "cc53e909"
      },
      "source": [
        "## Why Not Pure Python Lists?"
      ]
    },
    {
      "cell_type": "code",
      "execution_count": 1,
      "id": "49290efe",
      "metadata": {
        "colab": {
          "base_uri": "https://localhost:8080/"
        },
        "id": "49290efe",
        "outputId": "ccf259e8-12a7-4a72-9d30-8971e7f85faf"
      },
      "outputs": [
        {
          "output_type": "stream",
          "name": "stdout",
          "text": [
            "[5, 7, 9]\n"
          ]
        }
      ],
      "source": [
        "# Element-wise addition with lists\n",
        "x = [1, 2, 3]\n",
        "y = [4, 5, 6]\n",
        "z = [a + b for a, b in zip(x, y)]\n",
        "print(z)"
      ]
    },
    {
      "cell_type": "markdown",
      "id": "687d30be",
      "metadata": {
        "id": "687d30be"
      },
      "source": [
        "- List comprehensions can get messy\n",
        "- No type enforcement\n",
        "- Poor performance for large-scale data"
      ]
    },
    {
      "cell_type": "markdown",
      "id": "2a9f9852",
      "metadata": {
        "id": "2a9f9852"
      },
      "source": [
        "## Why NumPy?\n",
        "- Multidimensional array object\n",
        "- Vectorized operations\n",
        "- Broadcasting\n",
        "- Memory efficiency and performance\n",
        "- Backbone of scientific Python"
      ]
    },
    {
      "cell_type": "markdown",
      "id": "8994e3e5",
      "metadata": {
        "id": "8994e3e5"
      },
      "source": [
        "## Importing NumPy"
      ]
    },
    {
      "cell_type": "code",
      "execution_count": 2,
      "id": "621175b8",
      "metadata": {
        "id": "621175b8"
      },
      "outputs": [],
      "source": [
        "import numpy as np"
      ]
    },
    {
      "cell_type": "markdown",
      "id": "c9549240",
      "metadata": {
        "id": "c9549240"
      },
      "source": [
        "## Creating Arrays"
      ]
    },
    {
      "cell_type": "code",
      "execution_count": 3,
      "id": "f84ef6d6",
      "metadata": {
        "colab": {
          "base_uri": "https://localhost:8080/"
        },
        "id": "f84ef6d6",
        "outputId": "2acca710-ad0b-4633-ca2a-3e35bd72518d"
      },
      "outputs": [
        {
          "output_type": "stream",
          "name": "stdout",
          "text": [
            "using np.array: [1 2 3]\n",
            "Initiating using np.zeros: [[0. 0. 0.]\n",
            " [0. 0. 0.]]\n",
            "using np.ones: [1. 1. 1. 1. 1.]\n",
            "Initiating an identity matrix: [[1. 0. 0.]\n",
            " [0. 1. 0.]\n",
            " [0. 0. 1.]]\n",
            "using np.arange: [0 2 4 6 8]\n",
            "using np.linspace: [0.   0.25 0.5  0.75 1.  ]\n"
          ]
        }
      ],
      "source": [
        "print(f\"using np.array: {np.array([1, 2, 3])}\")\n",
        "print(f\"Initiating using np.zeros: {np.zeros((2, 3))}\")\n",
        "print(f\"using np.ones: {np.ones(5)}\")\n",
        "print(f\"Initiating an identity matrix: {np.eye(3)}\")\n",
        "print(f\"using np.arange: {np.arange(0, 10, 2)}\")\n",
        "print(f\"using np.linspace: {np.linspace(0, 1, 5)}\")"
      ]
    },
    {
      "cell_type": "markdown",
      "id": "1982614b",
      "metadata": {
        "id": "1982614b"
      },
      "source": [
        "## Array Attributes"
      ]
    },
    {
      "cell_type": "code",
      "execution_count": 4,
      "id": "6b072275",
      "metadata": {
        "colab": {
          "base_uri": "https://localhost:8080/"
        },
        "id": "6b072275",
        "outputId": "47fc5ea5-7236-4d5e-da1e-795e9796543b"
      },
      "outputs": [
        {
          "output_type": "stream",
          "name": "stdout",
          "text": [
            "(2, 2)\n",
            "2\n",
            "int64\n"
          ]
        }
      ],
      "source": [
        "x = np.array([[1, 2], [3, 4]])\n",
        "print(x.shape)\n",
        "print(x.ndim)\n",
        "print(x.dtype)"
      ]
    },
    {
      "cell_type": "markdown",
      "id": "6435f465",
      "metadata": {
        "id": "6435f465"
      },
      "source": [
        "## Vectorized Operations"
      ]
    },
    {
      "cell_type": "code",
      "execution_count": 5,
      "id": "2580d2f7",
      "metadata": {
        "colab": {
          "base_uri": "https://localhost:8080/"
        },
        "id": "2580d2f7",
        "outputId": "7f5bdfef-2777-4575-d422-4c91d7cbe1f2"
      },
      "outputs": [
        {
          "output_type": "stream",
          "name": "stdout",
          "text": [
            "[5 7 9]\n",
            "[ 4 10 18]\n",
            "[1 4 9]\n"
          ]
        }
      ],
      "source": [
        "x = np.array([1, 2, 3])\n",
        "y = np.array([4, 5, 6])\n",
        "print(x + y)\n",
        "print(x * y)\n",
        "print(x ** 2)"
      ]
    },
    {
      "cell_type": "markdown",
      "id": "542d4ee6",
      "metadata": {
        "id": "542d4ee6"
      },
      "source": [
        "## Broadcasting"
      ]
    },
    {
      "cell_type": "code",
      "execution_count": 6,
      "id": "9e4d2cc4",
      "metadata": {
        "colab": {
          "base_uri": "https://localhost:8080/"
        },
        "id": "9e4d2cc4",
        "outputId": "65f5a451-2fbd-4ae8-e497-087075b99cf1"
      },
      "outputs": [
        {
          "output_type": "stream",
          "name": "stdout",
          "text": [
            "[[11 21 31]\n",
            " [12 22 32]\n",
            " [13 23 33]]\n"
          ]
        }
      ],
      "source": [
        "x = np.array([[1], [2], [3]])\n",
        "y = np.array([10, 20, 30])\n",
        "print(x + y)"
      ]
    },
    {
      "cell_type": "markdown",
      "id": "af76e4f1",
      "metadata": {
        "id": "af76e4f1"
      },
      "source": [
        "## Comparison with Julia\n",
        "```julia\n",
        "x = [1, 2, 3]\n",
        "y = [4, 5, 6]\n",
        "z = x .+ y\n",
        "println(z)\n",
        "```\n",
        "- Julia supports **dot syntax** for element-wise ops\n",
        "- NumPy uses **vectorized ufuncs**"
      ]
    },
    {
      "cell_type": "markdown",
      "id": "9be9970b",
      "metadata": {
        "id": "9be9970b"
      },
      "source": [
        "## Indexing and Slicing"
      ]
    },
    {
      "cell_type": "code",
      "execution_count": 7,
      "id": "e4c3d453",
      "metadata": {
        "colab": {
          "base_uri": "https://localhost:8080/"
        },
        "id": "e4c3d453",
        "outputId": "418d7169-1a98-4849-b2e2-5172e2b3dc9d"
      },
      "outputs": [
        {
          "output_type": "stream",
          "name": "stdout",
          "text": [
            "2\n",
            "[2 5]\n",
            "[4 5 6]\n"
          ]
        }
      ],
      "source": [
        "x = np.array([[1, 2, 3], [4, 5, 6]])\n",
        "print(x[0, 1])\n",
        "print(x[:, 1])\n",
        "print(x[1, :])"
      ]
    },
    {
      "cell_type": "markdown",
      "id": "4c3783f3",
      "metadata": {
        "id": "4c3783f3"
      },
      "source": [
        "## Boolean Indexing"
      ]
    },
    {
      "cell_type": "code",
      "execution_count": 8,
      "id": "6390a636",
      "metadata": {
        "colab": {
          "base_uri": "https://localhost:8080/"
        },
        "id": "6390a636",
        "outputId": "026387c0-3837-455c-dc06-1918ecfcb131"
      },
      "outputs": [
        {
          "output_type": "stream",
          "name": "stdout",
          "text": [
            "[3 4 5]\n"
          ]
        }
      ],
      "source": [
        "x = np.array([1, 2, 3, 4, 5])\n",
        "print(x[x > 2])"
      ]
    },
    {
      "cell_type": "markdown",
      "id": "11dcecc7",
      "metadata": {
        "id": "11dcecc7"
      },
      "source": [
        "## Aggregations"
      ]
    },
    {
      "cell_type": "code",
      "execution_count": 9,
      "id": "037be72f",
      "metadata": {
        "colab": {
          "base_uri": "https://localhost:8080/"
        },
        "id": "037be72f",
        "outputId": "74d65784-f2a6-4246-b53a-e85d07f91633"
      },
      "outputs": [
        {
          "output_type": "stream",
          "name": "stdout",
          "text": [
            "10\n",
            "2.5\n",
            "[3 4]\n"
          ]
        }
      ],
      "source": [
        "x = np.array([[1, 2], [3, 4]])\n",
        "print(x.sum())\n",
        "print(x.mean())\n",
        "print(x.max(axis=0))"
      ]
    },
    {
      "cell_type": "markdown",
      "id": "c2d12582",
      "metadata": {
        "id": "c2d12582"
      },
      "source": [
        "## Linear Algebra"
      ]
    },
    {
      "cell_type": "code",
      "execution_count": 10,
      "id": "6a8f3247",
      "metadata": {
        "colab": {
          "base_uri": "https://localhost:8080/"
        },
        "id": "6a8f3247",
        "outputId": "f8a537db-d1cd-4972-ea6e-d0d45874afc0"
      },
      "outputs": [
        {
          "output_type": "stream",
          "name": "stdout",
          "text": [
            "[[-2.   1. ]\n",
            " [ 1.5 -0.5]]\n",
            "[[1.0000000e+00 0.0000000e+00]\n",
            " [8.8817842e-16 1.0000000e+00]]\n"
          ]
        }
      ],
      "source": [
        "x = np.array([[1, 2], [3, 4]])\n",
        "y = np.linalg.inv(x)\n",
        "print(y)\n",
        "print(np.dot(x, y))"
      ]
    },
    {
      "cell_type": "markdown",
      "id": "8cafcae5",
      "metadata": {
        "id": "8cafcae5"
      },
      "source": [
        "## Random Numbers"
      ]
    },
    {
      "cell_type": "code",
      "execution_count": 11,
      "id": "8550ea81",
      "metadata": {
        "colab": {
          "base_uri": "https://localhost:8080/"
        },
        "id": "8550ea81",
        "outputId": "457c831d-2b94-4a19-fa35-a5d902e2ce66"
      },
      "outputs": [
        {
          "output_type": "stream",
          "name": "stdout",
          "text": [
            "[0.5488135  0.71518937 0.60276338]\n",
            "[[-2.2683282   1.33354538]\n",
            " [-0.84272405  1.96992445]]\n",
            "[6 8 8 1 6]\n"
          ]
        }
      ],
      "source": [
        "np.random.seed(0)\n",
        "print(np.random.rand(3))\n",
        "print(np.random.randn(2, 2))\n",
        "print(np.random.randint(0, 10, size=5))"
      ]
    },
    {
      "cell_type": "markdown",
      "id": "bf47d4b0",
      "metadata": {
        "id": "bf47d4b0"
      },
      "source": [
        "## Summary\n",
        "- NumPy arrays are fast, efficient, and powerful\n",
        "- Vectorization replaces explicit loops\n",
        "- Broadcasting makes math simpler\n",
        "- Comparisons with Julia show similar design patterns"
      ]
    },
    {
      "cell_type": "markdown",
      "id": "b4888fa7",
      "metadata": {
        "id": "b4888fa7"
      },
      "source": [
        "## Try it Yourself!\n",
        "- Replace Python list code with NumPy arrays\n",
        "- Experiment with slicing, broadcasting, and aggregation"
      ]
    },
    {
      "cell_type": "markdown",
      "id": "e6758ac2",
      "metadata": {
        "id": "e6758ac2"
      },
      "source": [
        "## Questions?\n",
        "Ask away or let’s do a few exercises together!"
      ]
    },
    {
      "cell_type": "markdown",
      "id": "4bdbd308",
      "metadata": {
        "id": "4bdbd308"
      },
      "source": [
        "## Thank You\n",
        "- [NumPy Documentation](https://numpy.org/doc/)\n",
        "- [Julia Docs](https://docs.julialang.org/)\n",
        "- Continue practicing!"
      ]
    }
  ],
  "metadata": {
    "colab": {
      "provenance": []
    },
    "language_info": {
      "name": "python"
    },
    "kernelspec": {
      "name": "python3",
      "display_name": "Python 3"
    }
  },
  "nbformat": 4,
  "nbformat_minor": 5
}